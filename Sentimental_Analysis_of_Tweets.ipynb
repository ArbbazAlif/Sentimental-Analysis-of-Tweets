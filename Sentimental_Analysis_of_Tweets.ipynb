{
  "nbformat": 4,
  "nbformat_minor": 0,
  "metadata": {
    "colab": {
      "provenance": []
    },
    "kernelspec": {
      "name": "python3",
      "display_name": "Python 3"
    },
    "language_info": {
      "name": "python"
    },
    "accelerator": "GPU"
  },
  "cells": [
    {
      "cell_type": "code",
      "source": [
        "import nltk\n",
        "from nltk.corpus import stopwords\n",
        "import re\n",
        "import joblib\n",
        "from keras.preprocessing.text import Tokenizer\n",
        "import gensim\n",
        "from keras.preprocessing.sequence import pad_sequences\n",
        "from sklearn.preprocessing import LabelEncoder\n",
        "from keras.layers import Embedding\n",
        "from keras.models import Sequential\n",
        "from keras.layers import Dense,LSTM,Dropout\n",
        "from sklearn.metrics import confusion_matrix,accuracy_score,classification_report\n",
        "import numpy as np"
      ],
      "metadata": {
        "id": "2bUAp6xubiQn"
      },
      "execution_count": null,
      "outputs": []
    },
    {
      "cell_type": "code",
      "execution_count": null,
      "metadata": {
        "colab": {
          "base_uri": "https://localhost:8080/",
          "height": 500
        },
        "id": "lPv_pXjKp_A8",
        "outputId": "b6452b39-3f47-4896-9473-c0caa40a10a3"
      },
      "outputs": [
        {
          "output_type": "execute_result",
          "data": {
            "text/plain": [
              "   0  1467810369  Mon Apr 06 22:19:45 PDT 2009  NO_QUERY  _TheSpecialOne_  \\\n",
              "0  0  1467810672  Mon Apr 06 22:19:49 PDT 2009  NO_QUERY    scotthamilton   \n",
              "1  0  1467810917  Mon Apr 06 22:19:53 PDT 2009  NO_QUERY         mattycus   \n",
              "2  0  1467811184  Mon Apr 06 22:19:57 PDT 2009  NO_QUERY          ElleCTF   \n",
              "3  0  1467811193  Mon Apr 06 22:19:57 PDT 2009  NO_QUERY           Karoli   \n",
              "4  0  1467811372  Mon Apr 06 22:20:00 PDT 2009  NO_QUERY         joy_wolf   \n",
              "5  0  1467811592  Mon Apr 06 22:20:03 PDT 2009  NO_QUERY          mybirch   \n",
              "6  0  1467811594  Mon Apr 06 22:20:03 PDT 2009  NO_QUERY             coZZ   \n",
              "7  0  1467811795  Mon Apr 06 22:20:05 PDT 2009  NO_QUERY  2Hood4Hollywood   \n",
              "\n",
              "  @switchfoot http://twitpic.com/2y1zl - Awww, that's a bummer.  You shoulda got David Carr of Third Day to do it. ;D  \n",
              "0  is upset that he can't update his Facebook by ...                                                                   \n",
              "1  @Kenichan I dived many times for the ball. Man...                                                                   \n",
              "2    my whole body feels itchy and like its on fire                                                                    \n",
              "3  @nationwideclass no, it's not behaving at all....                                                                   \n",
              "4                      @Kwesidei not the whole crew                                                                    \n",
              "5                                        Need a hug                                                                    \n",
              "6  @LOLTrish hey  long time no see! Yes.. Rains a...                                                                   \n",
              "7               @Tatiana_K nope they didn't have it                                                                    "
            ],
            "text/html": [
              "\n",
              "  <div id=\"df-97faf2bc-11d7-424d-85eb-40970198a586\">\n",
              "    <div class=\"colab-df-container\">\n",
              "      <div>\n",
              "<style scoped>\n",
              "    .dataframe tbody tr th:only-of-type {\n",
              "        vertical-align: middle;\n",
              "    }\n",
              "\n",
              "    .dataframe tbody tr th {\n",
              "        vertical-align: top;\n",
              "    }\n",
              "\n",
              "    .dataframe thead th {\n",
              "        text-align: right;\n",
              "    }\n",
              "</style>\n",
              "<table border=\"1\" class=\"dataframe\">\n",
              "  <thead>\n",
              "    <tr style=\"text-align: right;\">\n",
              "      <th></th>\n",
              "      <th>0</th>\n",
              "      <th>1467810369</th>\n",
              "      <th>Mon Apr 06 22:19:45 PDT 2009</th>\n",
              "      <th>NO_QUERY</th>\n",
              "      <th>_TheSpecialOne_</th>\n",
              "      <th>@switchfoot http://twitpic.com/2y1zl - Awww, that's a bummer.  You shoulda got David Carr of Third Day to do it. ;D</th>\n",
              "    </tr>\n",
              "  </thead>\n",
              "  <tbody>\n",
              "    <tr>\n",
              "      <th>0</th>\n",
              "      <td>0</td>\n",
              "      <td>1467810672</td>\n",
              "      <td>Mon Apr 06 22:19:49 PDT 2009</td>\n",
              "      <td>NO_QUERY</td>\n",
              "      <td>scotthamilton</td>\n",
              "      <td>is upset that he can't update his Facebook by ...</td>\n",
              "    </tr>\n",
              "    <tr>\n",
              "      <th>1</th>\n",
              "      <td>0</td>\n",
              "      <td>1467810917</td>\n",
              "      <td>Mon Apr 06 22:19:53 PDT 2009</td>\n",
              "      <td>NO_QUERY</td>\n",
              "      <td>mattycus</td>\n",
              "      <td>@Kenichan I dived many times for the ball. Man...</td>\n",
              "    </tr>\n",
              "    <tr>\n",
              "      <th>2</th>\n",
              "      <td>0</td>\n",
              "      <td>1467811184</td>\n",
              "      <td>Mon Apr 06 22:19:57 PDT 2009</td>\n",
              "      <td>NO_QUERY</td>\n",
              "      <td>ElleCTF</td>\n",
              "      <td>my whole body feels itchy and like its on fire</td>\n",
              "    </tr>\n",
              "    <tr>\n",
              "      <th>3</th>\n",
              "      <td>0</td>\n",
              "      <td>1467811193</td>\n",
              "      <td>Mon Apr 06 22:19:57 PDT 2009</td>\n",
              "      <td>NO_QUERY</td>\n",
              "      <td>Karoli</td>\n",
              "      <td>@nationwideclass no, it's not behaving at all....</td>\n",
              "    </tr>\n",
              "    <tr>\n",
              "      <th>4</th>\n",
              "      <td>0</td>\n",
              "      <td>1467811372</td>\n",
              "      <td>Mon Apr 06 22:20:00 PDT 2009</td>\n",
              "      <td>NO_QUERY</td>\n",
              "      <td>joy_wolf</td>\n",
              "      <td>@Kwesidei not the whole crew</td>\n",
              "    </tr>\n",
              "    <tr>\n",
              "      <th>5</th>\n",
              "      <td>0</td>\n",
              "      <td>1467811592</td>\n",
              "      <td>Mon Apr 06 22:20:03 PDT 2009</td>\n",
              "      <td>NO_QUERY</td>\n",
              "      <td>mybirch</td>\n",
              "      <td>Need a hug</td>\n",
              "    </tr>\n",
              "    <tr>\n",
              "      <th>6</th>\n",
              "      <td>0</td>\n",
              "      <td>1467811594</td>\n",
              "      <td>Mon Apr 06 22:20:03 PDT 2009</td>\n",
              "      <td>NO_QUERY</td>\n",
              "      <td>coZZ</td>\n",
              "      <td>@LOLTrish hey  long time no see! Yes.. Rains a...</td>\n",
              "    </tr>\n",
              "    <tr>\n",
              "      <th>7</th>\n",
              "      <td>0</td>\n",
              "      <td>1467811795</td>\n",
              "      <td>Mon Apr 06 22:20:05 PDT 2009</td>\n",
              "      <td>NO_QUERY</td>\n",
              "      <td>2Hood4Hollywood</td>\n",
              "      <td>@Tatiana_K nope they didn't have it</td>\n",
              "    </tr>\n",
              "  </tbody>\n",
              "</table>\n",
              "</div>\n",
              "      <button class=\"colab-df-convert\" onclick=\"convertToInteractive('df-97faf2bc-11d7-424d-85eb-40970198a586')\"\n",
              "              title=\"Convert this dataframe to an interactive table.\"\n",
              "              style=\"display:none;\">\n",
              "        \n",
              "  <svg xmlns=\"http://www.w3.org/2000/svg\" height=\"24px\"viewBox=\"0 0 24 24\"\n",
              "       width=\"24px\">\n",
              "    <path d=\"M0 0h24v24H0V0z\" fill=\"none\"/>\n",
              "    <path d=\"M18.56 5.44l.94 2.06.94-2.06 2.06-.94-2.06-.94-.94-2.06-.94 2.06-2.06.94zm-11 1L8.5 8.5l.94-2.06 2.06-.94-2.06-.94L8.5 2.5l-.94 2.06-2.06.94zm10 10l.94 2.06.94-2.06 2.06-.94-2.06-.94-.94-2.06-.94 2.06-2.06.94z\"/><path d=\"M17.41 7.96l-1.37-1.37c-.4-.4-.92-.59-1.43-.59-.52 0-1.04.2-1.43.59L10.3 9.45l-7.72 7.72c-.78.78-.78 2.05 0 2.83L4 21.41c.39.39.9.59 1.41.59.51 0 1.02-.2 1.41-.59l7.78-7.78 2.81-2.81c.8-.78.8-2.07 0-2.86zM5.41 20L4 18.59l7.72-7.72 1.47 1.35L5.41 20z\"/>\n",
              "  </svg>\n",
              "      </button>\n",
              "      \n",
              "  <style>\n",
              "    .colab-df-container {\n",
              "      display:flex;\n",
              "      flex-wrap:wrap;\n",
              "      gap: 12px;\n",
              "    }\n",
              "\n",
              "    .colab-df-convert {\n",
              "      background-color: #E8F0FE;\n",
              "      border: none;\n",
              "      border-radius: 50%;\n",
              "      cursor: pointer;\n",
              "      display: none;\n",
              "      fill: #1967D2;\n",
              "      height: 32px;\n",
              "      padding: 0 0 0 0;\n",
              "      width: 32px;\n",
              "    }\n",
              "\n",
              "    .colab-df-convert:hover {\n",
              "      background-color: #E2EBFA;\n",
              "      box-shadow: 0px 1px 2px rgba(60, 64, 67, 0.3), 0px 1px 3px 1px rgba(60, 64, 67, 0.15);\n",
              "      fill: #174EA6;\n",
              "    }\n",
              "\n",
              "    [theme=dark] .colab-df-convert {\n",
              "      background-color: #3B4455;\n",
              "      fill: #D2E3FC;\n",
              "    }\n",
              "\n",
              "    [theme=dark] .colab-df-convert:hover {\n",
              "      background-color: #434B5C;\n",
              "      box-shadow: 0px 1px 3px 1px rgba(0, 0, 0, 0.15);\n",
              "      filter: drop-shadow(0px 1px 2px rgba(0, 0, 0, 0.3));\n",
              "      fill: #FFFFFF;\n",
              "    }\n",
              "  </style>\n",
              "\n",
              "      <script>\n",
              "        const buttonEl =\n",
              "          document.querySelector('#df-97faf2bc-11d7-424d-85eb-40970198a586 button.colab-df-convert');\n",
              "        buttonEl.style.display =\n",
              "          google.colab.kernel.accessAllowed ? 'block' : 'none';\n",
              "\n",
              "        async function convertToInteractive(key) {\n",
              "          const element = document.querySelector('#df-97faf2bc-11d7-424d-85eb-40970198a586');\n",
              "          const dataTable =\n",
              "            await google.colab.kernel.invokeFunction('convertToInteractive',\n",
              "                                                     [key], {});\n",
              "          if (!dataTable) return;\n",
              "\n",
              "          const docLinkHtml = 'Like what you see? Visit the ' +\n",
              "            '<a target=\"_blank\" href=https://colab.research.google.com/notebooks/data_table.ipynb>data table notebook</a>'\n",
              "            + ' to learn more about interactive tables.';\n",
              "          element.innerHTML = '';\n",
              "          dataTable['output_type'] = 'display_data';\n",
              "          await google.colab.output.renderOutput(dataTable, element);\n",
              "          const docLink = document.createElement('div');\n",
              "          docLink.innerHTML = docLinkHtml;\n",
              "          element.appendChild(docLink);\n",
              "        }\n",
              "      </script>\n",
              "    </div>\n",
              "  </div>\n",
              "  "
            ]
          },
          "metadata": {},
          "execution_count": 4
        }
      ],
      "source": [
        "import pandas as pd\n",
        "df = pd.read_csv('/content/drive/MyDrive/NLP/training.csv', encoding='latin', header=0)\n",
        "df.head(8)"
      ]
    },
    {
      "cell_type": "code",
      "source": [
        "columns=['target','ids','date','flag','user','text']\n",
        "df.columns = columns\n",
        "df.target.replace({0:'Negative',2:'Neutral',4:'Positive'},inplace=True)"
      ],
      "metadata": {
        "id": "t5eeZCXd7ASr"
      },
      "execution_count": null,
      "outputs": []
    },
    {
      "cell_type": "code",
      "source": [
        "df.head()\n",
        "nltk.download('stopwords')\n",
        "stop_words=set(stopwords.words('english'))\n",
        "stop_words.remove('not')"
      ],
      "metadata": {
        "colab": {
          "base_uri": "https://localhost:8080/"
        },
        "id": "5G0Q9B_-br7q",
        "outputId": "4599ddf7-2546-4183-f8c1-35a82b448b4b"
      },
      "execution_count": null,
      "outputs": [
        {
          "output_type": "stream",
          "name": "stdout",
          "text": [
            "[nltk_data] Downloading package stopwords to /root/nltk_data...\n",
            "[nltk_data]   Unzipping corpora/stopwords.zip.\n"
          ]
        }
      ]
    },
    {
      "cell_type": "code",
      "source": [
        "corpus=[]\n",
        "for i in range(0,len(df)):\n",
        "    review=re.sub('@\\S+|https?:\\S+|http?:\\S|[^A-Za-z0-9]+',' ',df['text'][i])\n",
        "    review=review.lower()\n",
        "    review=review.split()\n",
        "    review=[word for word in review if not word in stop_words]\n",
        "    review=' '.join(review)\n",
        "    corpus.append(review)"
      ],
      "metadata": {
        "id": "QfFvp8OxtapP"
      },
      "execution_count": null,
      "outputs": []
    },
    {
      "cell_type": "code",
      "source": [
        "df.text=corpus"
      ],
      "metadata": {
        "id": "GBpgI9dDZyJ4"
      },
      "execution_count": null,
      "outputs": []
    },
    {
      "cell_type": "code",
      "source": [
        "from sklearn.model_selection import train_test_split\n",
        "train_df,test_df=train_test_split(df,test_size=0.20,random_state=123)"
      ],
      "metadata": {
        "id": "YkeAIlSa63QM"
      },
      "execution_count": null,
      "outputs": []
    },
    {
      "cell_type": "code",
      "source": [
        "train_df.head()"
      ],
      "metadata": {
        "colab": {
          "base_uri": "https://localhost:8080/",
          "height": 206
        },
        "id": "CBXglO7zGWbu",
        "outputId": "7679b723-7dc3-4413-efda-f3561300d83a"
      },
      "execution_count": null,
      "outputs": [
        {
          "output_type": "execute_result",
          "data": {
            "text/plain": [
              "           target         ids                          date      flag  \\\n",
              "1559756  Positive  2186152631  Mon Jun 15 18:25:53 PDT 2009  NO_QUERY   \n",
              "51568    Negative  1679002557  Sat May 02 08:17:24 PDT 2009  NO_QUERY   \n",
              "569210   Negative  2207868153  Wed Jun 17 08:29:12 PDT 2009  NO_QUERY   \n",
              "71896    Negative  1694083982  Mon May 04 01:00:47 PDT 2009  NO_QUERY   \n",
              "405089   Negative  2058584395  Sat Jun 06 15:13:46 PDT 2009  NO_QUERY   \n",
              "\n",
              "                  user                                               text  \n",
              "1559756     blinkxxatl                  vicktcobra u guys tour right soon  \n",
              "51568      David_Kelly  good blog posts recently twitter dry grimeforu...  \n",
              "569210   Kristipalooza  brendo noooooooooooooooooooo howww earth could...  \n",
              "71896        GillianMe  awww sandi sorry u r not well sore underarm gl...  \n",
              "405089       is_selene  girl burns kitten alive oven quot practical jo...  "
            ],
            "text/html": [
              "\n",
              "  <div id=\"df-e89bd85f-05cf-44f7-baae-8077b8880858\">\n",
              "    <div class=\"colab-df-container\">\n",
              "      <div>\n",
              "<style scoped>\n",
              "    .dataframe tbody tr th:only-of-type {\n",
              "        vertical-align: middle;\n",
              "    }\n",
              "\n",
              "    .dataframe tbody tr th {\n",
              "        vertical-align: top;\n",
              "    }\n",
              "\n",
              "    .dataframe thead th {\n",
              "        text-align: right;\n",
              "    }\n",
              "</style>\n",
              "<table border=\"1\" class=\"dataframe\">\n",
              "  <thead>\n",
              "    <tr style=\"text-align: right;\">\n",
              "      <th></th>\n",
              "      <th>target</th>\n",
              "      <th>ids</th>\n",
              "      <th>date</th>\n",
              "      <th>flag</th>\n",
              "      <th>user</th>\n",
              "      <th>text</th>\n",
              "    </tr>\n",
              "  </thead>\n",
              "  <tbody>\n",
              "    <tr>\n",
              "      <th>1559756</th>\n",
              "      <td>Positive</td>\n",
              "      <td>2186152631</td>\n",
              "      <td>Mon Jun 15 18:25:53 PDT 2009</td>\n",
              "      <td>NO_QUERY</td>\n",
              "      <td>blinkxxatl</td>\n",
              "      <td>vicktcobra u guys tour right soon</td>\n",
              "    </tr>\n",
              "    <tr>\n",
              "      <th>51568</th>\n",
              "      <td>Negative</td>\n",
              "      <td>1679002557</td>\n",
              "      <td>Sat May 02 08:17:24 PDT 2009</td>\n",
              "      <td>NO_QUERY</td>\n",
              "      <td>David_Kelly</td>\n",
              "      <td>good blog posts recently twitter dry grimeforu...</td>\n",
              "    </tr>\n",
              "    <tr>\n",
              "      <th>569210</th>\n",
              "      <td>Negative</td>\n",
              "      <td>2207868153</td>\n",
              "      <td>Wed Jun 17 08:29:12 PDT 2009</td>\n",
              "      <td>NO_QUERY</td>\n",
              "      <td>Kristipalooza</td>\n",
              "      <td>brendo noooooooooooooooooooo howww earth could...</td>\n",
              "    </tr>\n",
              "    <tr>\n",
              "      <th>71896</th>\n",
              "      <td>Negative</td>\n",
              "      <td>1694083982</td>\n",
              "      <td>Mon May 04 01:00:47 PDT 2009</td>\n",
              "      <td>NO_QUERY</td>\n",
              "      <td>GillianMe</td>\n",
              "      <td>awww sandi sorry u r not well sore underarm gl...</td>\n",
              "    </tr>\n",
              "    <tr>\n",
              "      <th>405089</th>\n",
              "      <td>Negative</td>\n",
              "      <td>2058584395</td>\n",
              "      <td>Sat Jun 06 15:13:46 PDT 2009</td>\n",
              "      <td>NO_QUERY</td>\n",
              "      <td>is_selene</td>\n",
              "      <td>girl burns kitten alive oven quot practical jo...</td>\n",
              "    </tr>\n",
              "  </tbody>\n",
              "</table>\n",
              "</div>\n",
              "      <button class=\"colab-df-convert\" onclick=\"convertToInteractive('df-e89bd85f-05cf-44f7-baae-8077b8880858')\"\n",
              "              title=\"Convert this dataframe to an interactive table.\"\n",
              "              style=\"display:none;\">\n",
              "        \n",
              "  <svg xmlns=\"http://www.w3.org/2000/svg\" height=\"24px\"viewBox=\"0 0 24 24\"\n",
              "       width=\"24px\">\n",
              "    <path d=\"M0 0h24v24H0V0z\" fill=\"none\"/>\n",
              "    <path d=\"M18.56 5.44l.94 2.06.94-2.06 2.06-.94-2.06-.94-.94-2.06-.94 2.06-2.06.94zm-11 1L8.5 8.5l.94-2.06 2.06-.94-2.06-.94L8.5 2.5l-.94 2.06-2.06.94zm10 10l.94 2.06.94-2.06 2.06-.94-2.06-.94-.94-2.06-.94 2.06-2.06.94z\"/><path d=\"M17.41 7.96l-1.37-1.37c-.4-.4-.92-.59-1.43-.59-.52 0-1.04.2-1.43.59L10.3 9.45l-7.72 7.72c-.78.78-.78 2.05 0 2.83L4 21.41c.39.39.9.59 1.41.59.51 0 1.02-.2 1.41-.59l7.78-7.78 2.81-2.81c.8-.78.8-2.07 0-2.86zM5.41 20L4 18.59l7.72-7.72 1.47 1.35L5.41 20z\"/>\n",
              "  </svg>\n",
              "      </button>\n",
              "      \n",
              "  <style>\n",
              "    .colab-df-container {\n",
              "      display:flex;\n",
              "      flex-wrap:wrap;\n",
              "      gap: 12px;\n",
              "    }\n",
              "\n",
              "    .colab-df-convert {\n",
              "      background-color: #E8F0FE;\n",
              "      border: none;\n",
              "      border-radius: 50%;\n",
              "      cursor: pointer;\n",
              "      display: none;\n",
              "      fill: #1967D2;\n",
              "      height: 32px;\n",
              "      padding: 0 0 0 0;\n",
              "      width: 32px;\n",
              "    }\n",
              "\n",
              "    .colab-df-convert:hover {\n",
              "      background-color: #E2EBFA;\n",
              "      box-shadow: 0px 1px 2px rgba(60, 64, 67, 0.3), 0px 1px 3px 1px rgba(60, 64, 67, 0.15);\n",
              "      fill: #174EA6;\n",
              "    }\n",
              "\n",
              "    [theme=dark] .colab-df-convert {\n",
              "      background-color: #3B4455;\n",
              "      fill: #D2E3FC;\n",
              "    }\n",
              "\n",
              "    [theme=dark] .colab-df-convert:hover {\n",
              "      background-color: #434B5C;\n",
              "      box-shadow: 0px 1px 3px 1px rgba(0, 0, 0, 0.15);\n",
              "      filter: drop-shadow(0px 1px 2px rgba(0, 0, 0, 0.3));\n",
              "      fill: #FFFFFF;\n",
              "    }\n",
              "  </style>\n",
              "\n",
              "      <script>\n",
              "        const buttonEl =\n",
              "          document.querySelector('#df-e89bd85f-05cf-44f7-baae-8077b8880858 button.colab-df-convert');\n",
              "        buttonEl.style.display =\n",
              "          google.colab.kernel.accessAllowed ? 'block' : 'none';\n",
              "\n",
              "        async function convertToInteractive(key) {\n",
              "          const element = document.querySelector('#df-e89bd85f-05cf-44f7-baae-8077b8880858');\n",
              "          const dataTable =\n",
              "            await google.colab.kernel.invokeFunction('convertToInteractive',\n",
              "                                                     [key], {});\n",
              "          if (!dataTable) return;\n",
              "\n",
              "          const docLinkHtml = 'Like what you see? Visit the ' +\n",
              "            '<a target=\"_blank\" href=https://colab.research.google.com/notebooks/data_table.ipynb>data table notebook</a>'\n",
              "            + ' to learn more about interactive tables.';\n",
              "          element.innerHTML = '';\n",
              "          dataTable['output_type'] = 'display_data';\n",
              "          await google.colab.output.renderOutput(dataTable, element);\n",
              "          const docLink = document.createElement('div');\n",
              "          docLink.innerHTML = docLinkHtml;\n",
              "          element.appendChild(docLink);\n",
              "        }\n",
              "      </script>\n",
              "    </div>\n",
              "  </div>\n",
              "  "
            ]
          },
          "metadata": {},
          "execution_count": 10
        }
      ]
    },
    {
      "cell_type": "code",
      "source": [
        "test_df.head()"
      ],
      "metadata": {
        "colab": {
          "base_uri": "https://localhost:8080/",
          "height": 206
        },
        "id": "eHOYMOEWGzWK",
        "outputId": "e84168fa-34c2-41c9-f22d-0aa23512699a"
      },
      "execution_count": null,
      "outputs": [
        {
          "output_type": "execute_result",
          "data": {
            "text/plain": [
              "          target         ids                          date      flag  \\\n",
              "448282  Negative  2068921344  Sun Jun 07 14:56:43 PDT 2009  NO_QUERY   \n",
              "648495  Negative  2237041125  Fri Jun 19 05:04:02 PDT 2009  NO_QUERY   \n",
              "132529  Negative  1835775067  Mon May 18 06:43:29 PDT 2009  NO_QUERY   \n",
              "182348  Negative  1967122225  Fri May 29 19:00:48 PDT 2009  NO_QUERY   \n",
              "907612  Positive  1695846131  Mon May 04 07:04:29 PDT 2009  NO_QUERY   \n",
              "\n",
              "                user                                               text  \n",
              "448282    gemmagreeb  tired ive like 7hrs sleep past 2 nights not go...  \n",
              "648495     gopaldass      shucks missed key event week gt gt moan lt lt  \n",
              "132529   suedahlgren  nice 75 degree days could use weeks gonna c da...  \n",
              "182348  sarahleefitz  spikey dikey last friday night burg way coldst...  \n",
              "907612    Digidreams                                        good mornin  "
            ],
            "text/html": [
              "\n",
              "  <div id=\"df-2550f430-7563-44d0-8097-2d15cfe80f77\">\n",
              "    <div class=\"colab-df-container\">\n",
              "      <div>\n",
              "<style scoped>\n",
              "    .dataframe tbody tr th:only-of-type {\n",
              "        vertical-align: middle;\n",
              "    }\n",
              "\n",
              "    .dataframe tbody tr th {\n",
              "        vertical-align: top;\n",
              "    }\n",
              "\n",
              "    .dataframe thead th {\n",
              "        text-align: right;\n",
              "    }\n",
              "</style>\n",
              "<table border=\"1\" class=\"dataframe\">\n",
              "  <thead>\n",
              "    <tr style=\"text-align: right;\">\n",
              "      <th></th>\n",
              "      <th>target</th>\n",
              "      <th>ids</th>\n",
              "      <th>date</th>\n",
              "      <th>flag</th>\n",
              "      <th>user</th>\n",
              "      <th>text</th>\n",
              "    </tr>\n",
              "  </thead>\n",
              "  <tbody>\n",
              "    <tr>\n",
              "      <th>448282</th>\n",
              "      <td>Negative</td>\n",
              "      <td>2068921344</td>\n",
              "      <td>Sun Jun 07 14:56:43 PDT 2009</td>\n",
              "      <td>NO_QUERY</td>\n",
              "      <td>gemmagreeb</td>\n",
              "      <td>tired ive like 7hrs sleep past 2 nights not go...</td>\n",
              "    </tr>\n",
              "    <tr>\n",
              "      <th>648495</th>\n",
              "      <td>Negative</td>\n",
              "      <td>2237041125</td>\n",
              "      <td>Fri Jun 19 05:04:02 PDT 2009</td>\n",
              "      <td>NO_QUERY</td>\n",
              "      <td>gopaldass</td>\n",
              "      <td>shucks missed key event week gt gt moan lt lt</td>\n",
              "    </tr>\n",
              "    <tr>\n",
              "      <th>132529</th>\n",
              "      <td>Negative</td>\n",
              "      <td>1835775067</td>\n",
              "      <td>Mon May 18 06:43:29 PDT 2009</td>\n",
              "      <td>NO_QUERY</td>\n",
              "      <td>suedahlgren</td>\n",
              "      <td>nice 75 degree days could use weeks gonna c da...</td>\n",
              "    </tr>\n",
              "    <tr>\n",
              "      <th>182348</th>\n",
              "      <td>Negative</td>\n",
              "      <td>1967122225</td>\n",
              "      <td>Fri May 29 19:00:48 PDT 2009</td>\n",
              "      <td>NO_QUERY</td>\n",
              "      <td>sarahleefitz</td>\n",
              "      <td>spikey dikey last friday night burg way coldst...</td>\n",
              "    </tr>\n",
              "    <tr>\n",
              "      <th>907612</th>\n",
              "      <td>Positive</td>\n",
              "      <td>1695846131</td>\n",
              "      <td>Mon May 04 07:04:29 PDT 2009</td>\n",
              "      <td>NO_QUERY</td>\n",
              "      <td>Digidreams</td>\n",
              "      <td>good mornin</td>\n",
              "    </tr>\n",
              "  </tbody>\n",
              "</table>\n",
              "</div>\n",
              "      <button class=\"colab-df-convert\" onclick=\"convertToInteractive('df-2550f430-7563-44d0-8097-2d15cfe80f77')\"\n",
              "              title=\"Convert this dataframe to an interactive table.\"\n",
              "              style=\"display:none;\">\n",
              "        \n",
              "  <svg xmlns=\"http://www.w3.org/2000/svg\" height=\"24px\"viewBox=\"0 0 24 24\"\n",
              "       width=\"24px\">\n",
              "    <path d=\"M0 0h24v24H0V0z\" fill=\"none\"/>\n",
              "    <path d=\"M18.56 5.44l.94 2.06.94-2.06 2.06-.94-2.06-.94-.94-2.06-.94 2.06-2.06.94zm-11 1L8.5 8.5l.94-2.06 2.06-.94-2.06-.94L8.5 2.5l-.94 2.06-2.06.94zm10 10l.94 2.06.94-2.06 2.06-.94-2.06-.94-.94-2.06-.94 2.06-2.06.94z\"/><path d=\"M17.41 7.96l-1.37-1.37c-.4-.4-.92-.59-1.43-.59-.52 0-1.04.2-1.43.59L10.3 9.45l-7.72 7.72c-.78.78-.78 2.05 0 2.83L4 21.41c.39.39.9.59 1.41.59.51 0 1.02-.2 1.41-.59l7.78-7.78 2.81-2.81c.8-.78.8-2.07 0-2.86zM5.41 20L4 18.59l7.72-7.72 1.47 1.35L5.41 20z\"/>\n",
              "  </svg>\n",
              "      </button>\n",
              "      \n",
              "  <style>\n",
              "    .colab-df-container {\n",
              "      display:flex;\n",
              "      flex-wrap:wrap;\n",
              "      gap: 12px;\n",
              "    }\n",
              "\n",
              "    .colab-df-convert {\n",
              "      background-color: #E8F0FE;\n",
              "      border: none;\n",
              "      border-radius: 50%;\n",
              "      cursor: pointer;\n",
              "      display: none;\n",
              "      fill: #1967D2;\n",
              "      height: 32px;\n",
              "      padding: 0 0 0 0;\n",
              "      width: 32px;\n",
              "    }\n",
              "\n",
              "    .colab-df-convert:hover {\n",
              "      background-color: #E2EBFA;\n",
              "      box-shadow: 0px 1px 2px rgba(60, 64, 67, 0.3), 0px 1px 3px 1px rgba(60, 64, 67, 0.15);\n",
              "      fill: #174EA6;\n",
              "    }\n",
              "\n",
              "    [theme=dark] .colab-df-convert {\n",
              "      background-color: #3B4455;\n",
              "      fill: #D2E3FC;\n",
              "    }\n",
              "\n",
              "    [theme=dark] .colab-df-convert:hover {\n",
              "      background-color: #434B5C;\n",
              "      box-shadow: 0px 1px 3px 1px rgba(0, 0, 0, 0.15);\n",
              "      filter: drop-shadow(0px 1px 2px rgba(0, 0, 0, 0.3));\n",
              "      fill: #FFFFFF;\n",
              "    }\n",
              "  </style>\n",
              "\n",
              "      <script>\n",
              "        const buttonEl =\n",
              "          document.querySelector('#df-2550f430-7563-44d0-8097-2d15cfe80f77 button.colab-df-convert');\n",
              "        buttonEl.style.display =\n",
              "          google.colab.kernel.accessAllowed ? 'block' : 'none';\n",
              "\n",
              "        async function convertToInteractive(key) {\n",
              "          const element = document.querySelector('#df-2550f430-7563-44d0-8097-2d15cfe80f77');\n",
              "          const dataTable =\n",
              "            await google.colab.kernel.invokeFunction('convertToInteractive',\n",
              "                                                     [key], {});\n",
              "          if (!dataTable) return;\n",
              "\n",
              "          const docLinkHtml = 'Like what you see? Visit the ' +\n",
              "            '<a target=\"_blank\" href=https://colab.research.google.com/notebooks/data_table.ipynb>data table notebook</a>'\n",
              "            + ' to learn more about interactive tables.';\n",
              "          element.innerHTML = '';\n",
              "          dataTable['output_type'] = 'display_data';\n",
              "          await google.colab.output.renderOutput(dataTable, element);\n",
              "          const docLink = document.createElement('div');\n",
              "          docLink.innerHTML = docLinkHtml;\n",
              "          element.appendChild(docLink);\n",
              "        }\n",
              "      </script>\n",
              "    </div>\n",
              "  </div>\n",
              "  "
            ]
          },
          "metadata": {},
          "execution_count": 11
        }
      ]
    },
    {
      "cell_type": "code",
      "source": [
        "documents = [text.split() for text in train_df.text]\n",
        "w2v_model = gensim.models.word2vec.Word2Vec(size=300,\n",
        "                                            window=7,\n",
        "                                            min_count=10,\n",
        "                                            workers=8)\n",
        "w2v_model.build_vocab(documents)"
      ],
      "metadata": {
        "id": "UTgplNtoHCje"
      },
      "execution_count": null,
      "outputs": []
    },
    {
      "cell_type": "code",
      "source": [
        "words = w2v_model.wv.vocab.keys()\n",
        "vocab_size = len(words)\n",
        "print(\"Vocab size\", vocab_size)"
      ],
      "metadata": {
        "colab": {
          "base_uri": "https://localhost:8080/"
        },
        "id": "IHL84UIvHMbO",
        "outputId": "4212e06c-6247-4508-a0d2-d270614b3ae2"
      },
      "execution_count": null,
      "outputs": [
        {
          "output_type": "stream",
          "name": "stdout",
          "text": [
            "Vocab size 30357\n"
          ]
        }
      ]
    },
    {
      "cell_type": "code",
      "source": [
        "w2v_model.train(documents, total_examples=len(documents), epochs=30)"
      ],
      "metadata": {
        "colab": {
          "base_uri": "https://localhost:8080/"
        },
        "id": "vjnh33WPHPSh",
        "outputId": "3f22487d-882e-471f-9e31-5662e5e86fde"
      },
      "execution_count": null,
      "outputs": [
        {
          "output_type": "execute_result",
          "data": {
            "text/plain": [
              "(248038748, 279454290)"
            ]
          },
          "metadata": {},
          "execution_count": 14
        }
      ]
    },
    {
      "cell_type": "code",
      "source": [
        "w2v_model.wv.most_similar(\"good\")"
      ],
      "metadata": {
        "colab": {
          "base_uri": "https://localhost:8080/"
        },
        "id": "DID1Ho30HR-t",
        "outputId": "e00528eb-669c-4020-b1b8-a3074a3313fc"
      },
      "execution_count": null,
      "outputs": [
        {
          "output_type": "execute_result",
          "data": {
            "text/plain": [
              "[('great', 0.6856421232223511),\n",
              " ('bad', 0.5562549233436584),\n",
              " ('goood', 0.5377055406570435),\n",
              " ('nice', 0.5013444423675537),\n",
              " ('goooood', 0.49326708912849426),\n",
              " ('gooood', 0.4908473789691925),\n",
              " ('gooooood', 0.4809979796409607),\n",
              " ('rough', 0.4754399061203003),\n",
              " ('wonderful', 0.4710865616798401),\n",
              " ('gud', 0.4557993412017822)]"
            ]
          },
          "metadata": {},
          "execution_count": 15
        }
      ]
    },
    {
      "cell_type": "code",
      "source": [
        "w2v_model.wv.most_similar(\"hate\")"
      ],
      "metadata": {
        "colab": {
          "base_uri": "https://localhost:8080/"
        },
        "id": "LRkTh96sHUOV",
        "outputId": "8b12b655-e8fe-4ec1-ab2e-0c052b5d2ae0"
      },
      "execution_count": null,
      "outputs": [
        {
          "output_type": "execute_result",
          "data": {
            "text/plain": [
              "[('hates', 0.5490170121192932),\n",
              " ('sucks', 0.5087411999702454),\n",
              " ('stupid', 0.4698692262172699),\n",
              " ('suck', 0.4630446434020996),\n",
              " ('h8', 0.44515493512153625),\n",
              " ('despise', 0.44375279545783997),\n",
              " ('dislike', 0.4311303198337555),\n",
              " ('hating', 0.413593053817749),\n",
              " ('ugh', 0.39889100193977356),\n",
              " ('depressing', 0.38362061977386475)]"
            ]
          },
          "metadata": {},
          "execution_count": 16
        }
      ]
    },
    {
      "cell_type": "code",
      "source": [
        "w2v_model.wv.most_similar(\"great\")"
      ],
      "metadata": {
        "colab": {
          "base_uri": "https://localhost:8080/"
        },
        "id": "-faQD1oQHbXu",
        "outputId": "e4e0512a-b6b8-435c-8d1c-d2932362ba51"
      },
      "execution_count": null,
      "outputs": [
        {
          "output_type": "execute_result",
          "data": {
            "text/plain": [
              "[('fantastic', 0.7270028591156006),\n",
              " ('wonderful', 0.7000929713249207),\n",
              " ('awesome', 0.6955955624580383),\n",
              " ('good', 0.6856421232223511),\n",
              " ('amazing', 0.6438149809837341),\n",
              " ('fabulous', 0.6413958668708801),\n",
              " ('fab', 0.5956254005432129),\n",
              " ('nice', 0.5734556913375854),\n",
              " ('excellent', 0.5689972639083862),\n",
              " ('gr8', 0.5498502254486084)]"
            ]
          },
          "metadata": {},
          "execution_count": 17
        }
      ]
    },
    {
      "cell_type": "code",
      "source": [
        "tokenizer = Tokenizer()\n",
        "tokenizer.fit_on_texts(train_df.text)"
      ],
      "metadata": {
        "id": "sKGHPFD9Heq6"
      },
      "execution_count": null,
      "outputs": []
    },
    {
      "cell_type": "code",
      "source": [
        "tokenizer.word_index"
      ],
      "metadata": {
        "colab": {
          "base_uri": "https://localhost:8080/"
        },
        "id": "wK29WgiXHkE4",
        "outputId": "203d38b5-a1b2-41a7-bc24-ef70c13a7458"
      },
      "execution_count": null,
      "outputs": [
        {
          "output_type": "execute_result",
          "data": {
            "text/plain": [
              "{'not': 1,\n",
              " 'good': 2,\n",
              " 'day': 3,\n",
              " 'get': 4,\n",
              " 'like': 5,\n",
              " 'go': 6,\n",
              " 'quot': 7,\n",
              " 'today': 8,\n",
              " 'work': 9,\n",
              " 'love': 10,\n",
              " 'going': 11,\n",
              " 'got': 12,\n",
              " 'lol': 13,\n",
              " 'time': 14,\n",
              " 'back': 15,\n",
              " 'u': 16,\n",
              " 'one': 17,\n",
              " 'know': 18,\n",
              " 'im': 19,\n",
              " 'really': 20,\n",
              " 'amp': 21,\n",
              " 'see': 22,\n",
              " 'night': 23,\n",
              " 'still': 24,\n",
              " '2': 25,\n",
              " 'well': 26,\n",
              " 'want': 27,\n",
              " 'new': 28,\n",
              " 'think': 29,\n",
              " 'home': 30,\n",
              " 'thanks': 31,\n",
              " 'oh': 32,\n",
              " 'much': 33,\n",
              " 'miss': 34,\n",
              " 'need': 35,\n",
              " 'last': 36,\n",
              " 'morning': 37,\n",
              " 'tomorrow': 38,\n",
              " 'hope': 39,\n",
              " 'great': 40,\n",
              " 'twitter': 41,\n",
              " '3': 42,\n",
              " 'haha': 43,\n",
              " 'feel': 44,\n",
              " 'sad': 45,\n",
              " 'fun': 46,\n",
              " 'wish': 47,\n",
              " 'sleep': 48,\n",
              " 'right': 49,\n",
              " 'bad': 50,\n",
              " 'would': 51,\n",
              " 'happy': 52,\n",
              " 'sorry': 53,\n",
              " 'tonight': 54,\n",
              " 'come': 55,\n",
              " 'make': 56,\n",
              " 'way': 57,\n",
              " 'getting': 58,\n",
              " 'gonna': 59,\n",
              " 'though': 60,\n",
              " 'nice': 61,\n",
              " 'better': 62,\n",
              " 'watching': 63,\n",
              " 'yeah': 64,\n",
              " 'wait': 65,\n",
              " 'bed': 66,\n",
              " 'could': 67,\n",
              " 'week': 68,\n",
              " 'school': 69,\n",
              " 'people': 70,\n",
              " 'hate': 71,\n",
              " 'even': 72,\n",
              " 'hey': 73,\n",
              " 'days': 74,\n",
              " 'yes': 75,\n",
              " '4': 76,\n",
              " 'next': 77,\n",
              " 'weekend': 78,\n",
              " 'lt': 79,\n",
              " 'awesome': 80,\n",
              " 'dont': 81,\n",
              " 'thank': 82,\n",
              " 'never': 83,\n",
              " 'soon': 84,\n",
              " 'cant': 85,\n",
              " 'long': 86,\n",
              " 'take': 87,\n",
              " 'little': 88,\n",
              " 'working': 89,\n",
              " 'first': 90,\n",
              " 'best': 91,\n",
              " 'wanna': 92,\n",
              " 'say': 93,\n",
              " 'please': 94,\n",
              " 'tired': 95,\n",
              " 'everyone': 96,\n",
              " 'life': 97,\n",
              " 'ok': 98,\n",
              " 'show': 99,\n",
              " 'sick': 100,\n",
              " 'watch': 101,\n",
              " 'done': 102,\n",
              " '1': 103,\n",
              " 'let': 104,\n",
              " 'feeling': 105,\n",
              " 'always': 106,\n",
              " 'sure': 107,\n",
              " 'already': 108,\n",
              " 'x': 109,\n",
              " 'thing': 110,\n",
              " 'another': 111,\n",
              " 'friends': 112,\n",
              " 'cool': 113,\n",
              " 'something': 114,\n",
              " 'us': 115,\n",
              " 'man': 116,\n",
              " 'find': 117,\n",
              " 'guys': 118,\n",
              " 'ready': 119,\n",
              " 'made': 120,\n",
              " 'yay': 121,\n",
              " 'looking': 122,\n",
              " 'phone': 123,\n",
              " 'yet': 124,\n",
              " 'look': 125,\n",
              " 'went': 126,\n",
              " 'hours': 127,\n",
              " 'movie': 128,\n",
              " 'house': 129,\n",
              " 'ur': 130,\n",
              " 'ever': 131,\n",
              " 'pretty': 132,\n",
              " 'trying': 133,\n",
              " 'maybe': 134,\n",
              " 'n': 135,\n",
              " 'away': 136,\n",
              " 'omg': 137,\n",
              " 'summer': 138,\n",
              " 'tweet': 139,\n",
              " 'old': 140,\n",
              " 'finally': 141,\n",
              " 'amazing': 142,\n",
              " '5': 143,\n",
              " 'early': 144,\n",
              " 'help': 145,\n",
              " 'damn': 146,\n",
              " 'follow': 147,\n",
              " 'things': 148,\n",
              " 'guess': 149,\n",
              " 'lost': 150,\n",
              " 'left': 151,\n",
              " 'someone': 152,\n",
              " 'friend': 153,\n",
              " 'keep': 154,\n",
              " 'wow': 155,\n",
              " 'big': 156,\n",
              " 'nothing': 157,\n",
              " 'thought': 158,\n",
              " 'year': 159,\n",
              " 'bit': 160,\n",
              " 'hot': 161,\n",
              " 'missed': 162,\n",
              " 'ya': 163,\n",
              " 'rain': 164,\n",
              " 'sucks': 165,\n",
              " 'bored': 166,\n",
              " 'try': 167,\n",
              " 'glad': 168,\n",
              " 'girl': 169,\n",
              " 'looks': 170,\n",
              " 'birthday': 171,\n",
              " 'live': 172,\n",
              " 'start': 173,\n",
              " 'coming': 174,\n",
              " 'tell': 175,\n",
              " 'baby': 176,\n",
              " 'also': 177,\n",
              " 'two': 178,\n",
              " 'sun': 179,\n",
              " 'later': 180,\n",
              " 'weather': 181,\n",
              " 'w': 182,\n",
              " 'actually': 183,\n",
              " 'ugh': 184,\n",
              " 'song': 185,\n",
              " 'hear': 186,\n",
              " 'saw': 187,\n",
              " 'party': 188,\n",
              " 'excited': 189,\n",
              " 'stuff': 190,\n",
              " 'might': 191,\n",
              " 'waiting': 192,\n",
              " 'makes': 193,\n",
              " 'hard': 194,\n",
              " 'game': 195,\n",
              " 'play': 196,\n",
              " 'said': 197,\n",
              " 'yesterday': 198,\n",
              " 'god': 199,\n",
              " 'since': 200,\n",
              " 'world': 201,\n",
              " 'thats': 202,\n",
              " 'gotta': 203,\n",
              " 'lot': 204,\n",
              " 'hi': 205,\n",
              " 'late': 206,\n",
              " 'around': 207,\n",
              " 'mom': 208,\n",
              " 'music': 209,\n",
              " 'many': 210,\n",
              " 'car': 211,\n",
              " 'friday': 212,\n",
              " 'b': 213,\n",
              " 'sounds': 214,\n",
              " 'check': 215,\n",
              " 'head': 216,\n",
              " 'luck': 217,\n",
              " 'r': 218,\n",
              " 'must': 219,\n",
              " 'found': 220,\n",
              " 'read': 221,\n",
              " 'job': 222,\n",
              " 'cold': 223,\n",
              " 'beautiful': 224,\n",
              " 'give': 225,\n",
              " 'making': 226,\n",
              " 'call': 227,\n",
              " 'sunday': 228,\n",
              " 'aww': 229,\n",
              " 'talk': 230,\n",
              " 'gone': 231,\n",
              " 'com': 232,\n",
              " 'missing': 233,\n",
              " 'monday': 234,\n",
              " 'may': 235,\n",
              " 'put': 236,\n",
              " 'poor': 237,\n",
              " 'stop': 238,\n",
              " 'anything': 239,\n",
              " 'least': 240,\n",
              " 'woke': 241,\n",
              " 'till': 242,\n",
              " 'leave': 243,\n",
              " 'times': 244,\n",
              " 'hair': 245,\n",
              " 'okay': 246,\n",
              " 'tho': 247,\n",
              " 'almost': 248,\n",
              " 'free': 249,\n",
              " 'cute': 250,\n",
              " 'use': 251,\n",
              " 'lunch': 252,\n",
              " 'family': 253,\n",
              " 'iphone': 254,\n",
              " 'wanted': 255,\n",
              " 'listening': 256,\n",
              " 'far': 257,\n",
              " 'mean': 258,\n",
              " 'hurts': 259,\n",
              " 'eat': 260,\n",
              " 'food': 261,\n",
              " 'end': 262,\n",
              " 'hour': 263,\n",
              " 'enjoy': 264,\n",
              " '10': 265,\n",
              " 'funny': 266,\n",
              " 'dinner': 267,\n",
              " 'everything': 268,\n",
              " 'followers': 269,\n",
              " 'anyone': 270,\n",
              " 'finished': 271,\n",
              " 'playing': 272,\n",
              " 'welcome': 273,\n",
              " 'shit': 274,\n",
              " 'without': 275,\n",
              " 'believe': 276,\n",
              " 'forward': 277,\n",
              " 'gt': 278,\n",
              " 'thinking': 279,\n",
              " 'sweet': 280,\n",
              " '6': 281,\n",
              " 'cause': 282,\n",
              " 'video': 283,\n",
              " 'hahaha': 284,\n",
              " 'totally': 285,\n",
              " 'outside': 286,\n",
              " 'coffee': 287,\n",
              " 'mine': 288,\n",
              " 'real': 289,\n",
              " 'buy': 290,\n",
              " 'stupid': 291,\n",
              " 'enough': 292,\n",
              " 'wrong': 293,\n",
              " 'ill': 294,\n",
              " 'didnt': 295,\n",
              " 'anymore': 296,\n",
              " 'probably': 297,\n",
              " 'p': 298,\n",
              " 'every': 299,\n",
              " 'room': 300,\n",
              " 'place': 301,\n",
              " 'weeks': 302,\n",
              " 'eating': 303,\n",
              " 'tv': 304,\n",
              " 'ha': 305,\n",
              " 'tweets': 306,\n",
              " 'busy': 307,\n",
              " 'money': 308,\n",
              " 'stay': 309,\n",
              " 'c': 310,\n",
              " 'dad': 311,\n",
              " 'wants': 312,\n",
              " 'sooo': 313,\n",
              " 'following': 314,\n",
              " 'win': 315,\n",
              " 'xx': 316,\n",
              " '30': 317,\n",
              " 'lovely': 318,\n",
              " 'saturday': 319,\n",
              " 'came': 320,\n",
              " '8': 321,\n",
              " 'pic': 322,\n",
              " 'kinda': 323,\n",
              " 'whole': 324,\n",
              " 'seen': 325,\n",
              " 'kids': 326,\n",
              " 'class': 327,\n",
              " 'taking': 328,\n",
              " 'says': 329,\n",
              " '7': 330,\n",
              " 'exam': 331,\n",
              " 'beach': 332,\n",
              " 'hopefully': 333,\n",
              " 'name': 334,\n",
              " 'crazy': 335,\n",
              " 'super': 336,\n",
              " 'headache': 337,\n",
              " 'half': 338,\n",
              " 'took': 339,\n",
              " 'hello': 340,\n",
              " 'guy': 341,\n",
              " 'news': 342,\n",
              " 'years': 343,\n",
              " 'post': 344,\n",
              " 'hell': 345,\n",
              " 'awww': 346,\n",
              " 'idea': 347,\n",
              " 'true': 348,\n",
              " 'goodnight': 349,\n",
              " 'book': 350,\n",
              " 'face': 351,\n",
              " 'forgot': 352,\n",
              " 'ago': 353,\n",
              " 'meet': 354,\n",
              " 'send': 355,\n",
              " 'able': 356,\n",
              " 'run': 357,\n",
              " 'shopping': 358,\n",
              " 'reading': 359,\n",
              " 'else': 360,\n",
              " 'lots': 361,\n",
              " 'either': 362,\n",
              " 'rest': 363,\n",
              " 'full': 364,\n",
              " 'leaving': 365,\n",
              " 'computer': 366,\n",
              " 'sitting': 367,\n",
              " 'girls': 368,\n",
              " 'soo': 369,\n",
              " 'used': 370,\n",
              " 'ah': 371,\n",
              " 'hurt': 372,\n",
              " 'boo': 373,\n",
              " 'feels': 374,\n",
              " 'cuz': 375,\n",
              " 'alone': 376,\n",
              " 'seems': 377,\n",
              " 'raining': 378,\n",
              " 'blog': 379,\n",
              " 'remember': 380,\n",
              " 'hehe': 381,\n",
              " 'btw': 382,\n",
              " 'fuck': 383,\n",
              " 'office': 384,\n",
              " 'heart': 385,\n",
              " 'internet': 386,\n",
              " 'talking': 387,\n",
              " 'mind': 388,\n",
              " 'dog': 389,\n",
              " 'watched': 390,\n",
              " 'needs': 391,\n",
              " 'hit': 392,\n",
              " 'tried': 393,\n",
              " 'stuck': 394,\n",
              " 'trip': 395,\n",
              " 'heard': 396,\n",
              " 'www': 397,\n",
              " 'course': 398,\n",
              " 'started': 399,\n",
              " 'kind': 400,\n",
              " 'part': 401,\n",
              " 'wont': 402,\n",
              " 'seeing': 403,\n",
              " 'boy': 404,\n",
              " 'picture': 405,\n",
              " 'online': 406,\n",
              " 'add': 407,\n",
              " 'quite': 408,\n",
              " 'using': 409,\n",
              " 'awake': 410,\n",
              " 'pain': 411,\n",
              " 'cry': 412,\n",
              " 'break': 413,\n",
              " 'fine': 414,\n",
              " 'told': 415,\n",
              " 'pics': 416,\n",
              " 'facebook': 417,\n",
              " 'breakfast': 418,\n",
              " 'boring': 419,\n",
              " 'seriously': 420,\n",
              " 'goes': 421,\n",
              " 'loved': 422,\n",
              " 'wake': 423,\n",
              " 'person': 424,\n",
              " 'sunny': 425,\n",
              " 'til': 426,\n",
              " 'broke': 427,\n",
              " 'change': 428,\n",
              " 'lmao': 429,\n",
              " 'bought': 430,\n",
              " 'minutes': 431,\n",
              " 'care': 432,\n",
              " 'update': 433,\n",
              " 'dude': 434,\n",
              " 'starting': 435,\n",
              " 'reply': 436,\n",
              " 'open': 437,\n",
              " 'called': 438,\n",
              " 'sister': 439,\n",
              " 'concert': 440,\n",
              " 'lucky': 441,\n",
              " 'season': 442,\n",
              " 'la': 443,\n",
              " 'ass': 444,\n",
              " 'pay': 445,\n",
              " 'anyway': 446,\n",
              " 'month': 447,\n",
              " 'june': 448,\n",
              " 'afternoon': 449,\n",
              " 'asleep': 450,\n",
              " 'site': 451,\n",
              " 'gets': 452,\n",
              " 'crap': 453,\n",
              " '9': 454,\n",
              " 'bring': 455,\n",
              " 'aw': 456,\n",
              " 'hungry': 457,\n",
              " 'link': 458,\n",
              " 'walk': 459,\n",
              " 'drive': 460,\n",
              " '100': 461,\n",
              " 'heading': 462,\n",
              " 'ice': 463,\n",
              " 'shower': 464,\n",
              " 'train': 465,\n",
              " 'instead': 466,\n",
              " 'bye': 467,\n",
              " 'favorite': 468,\n",
              " 'sleeping': 469,\n",
              " 'xd': 470,\n",
              " 'study': 471,\n",
              " 'red': 472,\n",
              " 'fan': 473,\n",
              " 'text': 474,\n",
              " 'e': 475,\n",
              " 'jealous': 476,\n",
              " 'yea': 477,\n",
              " 'enjoying': 478,\n",
              " 'exams': 479,\n",
              " 'bout': 480,\n",
              " 'mother': 481,\n",
              " 'rock': 482,\n",
              " 'mad': 483,\n",
              " 'brother': 484,\n",
              " 'together': 485,\n",
              " 'definitely': 486,\n",
              " 'sore': 487,\n",
              " 'move': 488,\n",
              " 'running': 489,\n",
              " 'high': 490,\n",
              " 'hoping': 491,\n",
              " '0': 492,\n",
              " 'soooo': 493,\n",
              " 'wonderful': 494,\n",
              " 'died': 495,\n",
              " 'congrats': 496,\n",
              " 'dead': 497,\n",
              " 'problem': 498,\n",
              " 'finish': 499,\n",
              " 'youtube': 500,\n",
              " 'fail': 501,\n",
              " 'sometimes': 502,\n",
              " 'dear': 503,\n",
              " '12': 504,\n",
              " 'homework': 505,\n",
              " 'goin': 506,\n",
              " 'city': 507,\n",
              " 'nite': 508,\n",
              " 'movies': 509,\n",
              " 'l': 510,\n",
              " 'write': 511,\n",
              " 'means': 512,\n",
              " 'email': 513,\n",
              " 'happened': 514,\n",
              " 'fucking': 515,\n",
              " 'town': 516,\n",
              " 'ask': 517,\n",
              " 'sigh': 518,\n",
              " 'works': 519,\n",
              " 'album': 520,\n",
              " 'top': 521,\n",
              " 'boys': 522,\n",
              " 'laptop': 523,\n",
              " 'set': 524,\n",
              " 'suck': 525,\n",
              " 'couple': 526,\n",
              " 'church': 527,\n",
              " 'drink': 528,\n",
              " 'cut': 529,\n",
              " 'eyes': 530,\n",
              " 'comes': 531,\n",
              " 'water': 532,\n",
              " 'tour': 533,\n",
              " 'evening': 534,\n",
              " 'ppl': 535,\n",
              " 'happen': 536,\n",
              " 'reason': 537,\n",
              " 'sound': 538,\n",
              " 'ipod': 539,\n",
              " 'less': 540,\n",
              " 'tea': 541,\n",
              " 'loves': 542,\n",
              " 'side': 543,\n",
              " 'months': 544,\n",
              " '20': 545,\n",
              " 'studying': 546,\n",
              " 'cream': 547,\n",
              " 'perfect': 548,\n",
              " 'gym': 549,\n",
              " 'songs': 550,\n",
              " 'dream': 551,\n",
              " 'ive': 552,\n",
              " 'final': 553,\n",
              " 'visit': 554,\n",
              " 'weird': 555,\n",
              " 'nap': 556,\n",
              " 'fall': 557,\n",
              " 'test': 558,\n",
              " 'listen': 559,\n",
              " 'meeting': 560,\n",
              " 'dance': 561,\n",
              " 'cat': 562,\n",
              " 'ones': 563,\n",
              " 'close': 564,\n",
              " 'tickets': 565,\n",
              " 'seem': 566,\n",
              " 'loving': 567,\n",
              " 'interesting': 568,\n",
              " 'lil': 569,\n",
              " 'fb': 570,\n",
              " 'mood': 571,\n",
              " 'store': 572,\n",
              " '11': 573,\n",
              " 'ahh': 574,\n",
              " 'english': 575,\n",
              " 'knew': 576,\n",
              " 'agree': 577,\n",
              " 'catch': 578,\n",
              " 'story': 579,\n",
              " 'moment': 580,\n",
              " 'fast': 581,\n",
              " 'turn': 582,\n",
              " 'hang': 583,\n",
              " 'writing': 584,\n",
              " 'second': 585,\n",
              " 'clean': 586,\n",
              " 'list': 587,\n",
              " 'ate': 588,\n",
              " 'awards': 589,\n",
              " 'pool': 590,\n",
              " 'chocolate': 591,\n",
              " 'worst': 592,\n",
              " 'ride': 593,\n",
              " 'word': 594,\n",
              " 'smile': 595,\n",
              " 'air': 596,\n",
              " 'broken': 597,\n",
              " 'unfortunately': 598,\n",
              " 'saying': 599,\n",
              " 'supposed': 600,\n",
              " 'moving': 601,\n",
              " 'london': 602,\n",
              " 'wishing': 603,\n",
              " 'page': 604,\n",
              " 'hmm': 605,\n",
              " 'driving': 606,\n",
              " 'yep': 607,\n",
              " 'three': 608,\n",
              " 'short': 609,\n",
              " 'worth': 610,\n",
              " 'pictures': 611,\n",
              " '1st': 612,\n",
              " 'black': 613,\n",
              " 'park': 614,\n",
              " 'throat': 615,\n",
              " 'xxx': 616,\n",
              " 'past': 617,\n",
              " 'photo': 618,\n",
              " 'myspace': 619,\n",
              " 'via': 620,\n",
              " 'wedding': 621,\n",
              " 'da': 622,\n",
              " 'horrible': 623,\n",
              " 'sleepy': 624,\n",
              " 'cleaning': 625,\n",
              " 'sunshine': 626,\n",
              " 'sat': 627,\n",
              " 'forget': 628,\n",
              " 'understand': 629,\n",
              " 'dreams': 630,\n",
              " 'mum': 631,\n",
              " 'sent': 632,\n",
              " 'followfriday': 633,\n",
              " 'gave': 634,\n",
              " 'g': 635,\n",
              " 'star': 636,\n",
              " 'team': 637,\n",
              " 'em': 638,\n",
              " 'slow': 639,\n",
              " 'drinking': 640,\n",
              " 'k': 641,\n",
              " 'jonas': 642,\n",
              " 'plan': 643,\n",
              " 'tweeting': 644,\n",
              " 'account': 645,\n",
              " 'wonder': 646,\n",
              " 'worse': 647,\n",
              " 'college': 648,\n",
              " 'pick': 649,\n",
              " 'chance': 650,\n",
              " 'date': 651,\n",
              " 'mac': 652,\n",
              " '15': 653,\n",
              " 'easy': 654,\n",
              " 'moon': 655,\n",
              " 'hugs': 656,\n",
              " 'lady': 657,\n",
              " 'doesnt': 658,\n",
              " 'whats': 659,\n",
              " 'mr': 660,\n",
              " 'special': 661,\n",
              " 'holiday': 662,\n",
              " 'green': 663,\n",
              " 'fell': 664,\n",
              " 'hand': 665,\n",
              " 'scared': 666,\n",
              " 'point': 667,\n",
              " 'apparently': 668,\n",
              " 'rather': 669,\n",
              " 'flu': 670,\n",
              " 'cannot': 671,\n",
              " 'parents': 672,\n",
              " 'flight': 673,\n",
              " 'uk': 674,\n",
              " 'miley': 675,\n",
              " 'band': 676,\n",
              " 'bday': 677,\n",
              " 'upset': 678,\n",
              " 'longer': 679,\n",
              " 'updates': 680,\n",
              " 'bet': 681,\n",
              " 'mtv': 682,\n",
              " 'huge': 683,\n",
              " 'nope': 684,\n",
              " 'due': 685,\n",
              " 'tuesday': 686,\n",
              " 'vote': 687,\n",
              " 'wtf': 688,\n",
              " 'spent': 689,\n",
              " 'plus': 690,\n",
              " 'plans': 691,\n",
              " 'words': 692,\n",
              " 'body': 693,\n",
              " 'fair': 694,\n",
              " 'hanging': 695,\n",
              " 'ahhh': 696,\n",
              " 'thx': 697,\n",
              " 'shame': 698,\n",
              " 'spend': 699,\n",
              " 'earlier': 700,\n",
              " 'wondering': 701,\n",
              " 'forever': 702,\n",
              " 'bus': 703,\n",
              " 'vacation': 704,\n",
              " 'website': 705,\n",
              " 'join': 706,\n",
              " 'wear': 707,\n",
              " 'message': 708,\n",
              " 'especially': 709,\n",
              " 'line': 710,\n",
              " 'lazy': 711,\n",
              " 'worry': 712,\n",
              " 'idk': 713,\n",
              " 'beer': 714,\n",
              " 'shows': 715,\n",
              " 'v': 716,\n",
              " 'white': 717,\n",
              " 'lets': 718,\n",
              " 'slept': 719,\n",
              " 'july': 720,\n",
              " 'david': 721,\n",
              " 'answer': 722,\n",
              " 'stomach': 723,\n",
              " 'warm': 724,\n",
              " 'sadly': 725,\n",
              " 'fans': 726,\n",
              " 'cake': 727,\n",
              " 'looked': 728,\n",
              " 'thursday': 729,\n",
              " 'thinks': 730,\n",
              " 'different': 731,\n",
              " 'die': 732,\n",
              " 'tom': 733,\n",
              " 'learn': 734,\n",
              " 'voice': 735,\n",
              " 'support': 736,\n",
              " 'google': 737,\n",
              " 'inside': 738,\n",
              " 'met': 739,\n",
              " 'bbq': 740,\n",
              " 'yummy': 741,\n",
              " 'figure': 742,\n",
              " 'havent': 743,\n",
              " 'pizza': 744,\n",
              " 'meant': 745,\n",
              " 'shop': 746,\n",
              " 'fix': 747,\n",
              " 'liked': 748,\n",
              " 'boyfriend': 749,\n",
              " 'chat': 750,\n",
              " 'dress': 751,\n",
              " 'number': 752,\n",
              " 'small': 753,\n",
              " 'luv': 754,\n",
              " 'crying': 755,\n",
              " 'son': 756,\n",
              " 'f': 757,\n",
              " 'officially': 758,\n",
              " 'camera': 759,\n",
              " 'rainy': 760,\n",
              " 'safe': 761,\n",
              " 'power': 762,\n",
              " 'graduation': 763,\n",
              " 'sims': 764,\n",
              " '2day': 765,\n",
              " 'photos': 766,\n",
              " 'eye': 767,\n",
              " 'episode': 768,\n",
              " 'shirt': 769,\n",
              " 'bike': 770,\n",
              " 'apple': 771,\n",
              " 'airport': 772,\n",
              " 'dm': 773,\n",
              " 'paper': 774,\n",
              " 'finals': 775,\n",
              " 'absolutely': 776,\n",
              " 'worked': 777,\n",
              " 'except': 778,\n",
              " 'radio': 779,\n",
              " 'blue': 780,\n",
              " 'proud': 781,\n",
              " 'project': 782,\n",
              " 'tummy': 783,\n",
              " 'save': 784,\n",
              " 'laugh': 785,\n",
              " 'kid': 786,\n",
              " 'road': 787,\n",
              " 'decided': 788,\n",
              " 'alright': 789,\n",
              " 'games': 790,\n",
              " 'shoes': 791,\n",
              " 'twilight': 792,\n",
              " 'felt': 793,\n",
              " 'lonely': 794,\n",
              " 'gorgeous': 795,\n",
              " 'chicken': 796,\n",
              " 'garden': 797,\n",
              " 'shall': 798,\n",
              " 'cd': 799,\n",
              " 'hubby': 800,\n",
              " 'needed': 801,\n",
              " 'kill': 802,\n",
              " 'beat': 803,\n",
              " 'brothers': 804,\n",
              " 'hug': 805,\n",
              " 'woo': 806,\n",
              " 'played': 807,\n",
              " 'xoxo': 808,\n",
              " 'yup': 809,\n",
              " 'annoying': 810,\n",
              " 'sign': 811,\n",
              " 'packing': 812,\n",
              " 'starts': 813,\n",
              " 'hospital': 814,\n",
              " 'cos': 815,\n",
              " 'wit': 816,\n",
              " 'card': 817,\n",
              " 'hmmm': 818,\n",
              " 'lame': 819,\n",
              " 'books': 820,\n",
              " 'case': 821,\n",
              " 'wishes': 822,\n",
              " 'wine': 823,\n",
              " 'keeps': 824,\n",
              " 'scary': 825,\n",
              " 'exactly': 826,\n",
              " 'wednesday': 827,\n",
              " 'babe': 828,\n",
              " 'club': 829,\n",
              " 'exciting': 830,\n",
              " 'taken': 831,\n",
              " 'feet': 832,\n",
              " 'hates': 833,\n",
              " 'front': 834,\n",
              " 'near': 835,\n",
              " 'living': 836,\n",
              " 'ouch': 837,\n",
              " 'fact': 838,\n",
              " 'turned': 839,\n",
              " 'knows': 840,\n",
              " 'french': 841,\n",
              " 'bro': 842,\n",
              " '2nd': 843,\n",
              " 'goodbye': 844,\n",
              " 'order': 845,\n",
              " 'happens': 846,\n",
              " 'sold': 847,\n",
              " 'share': 848,\n",
              " 'service': 849,\n",
              " 'isnt': 850,\n",
              " 'yo': 851,\n",
              " 'mothers': 852,\n",
              " 'jus': 853,\n",
              " 'cup': 854,\n",
              " 'business': 855,\n",
              " 'realized': 856,\n",
              " 'pass': 857,\n",
              " 'whatever': 858,\n",
              " 'drunk': 859,\n",
              " 'download': 860,\n",
              " 'question': 861,\n",
              " 'although': 862,\n",
              " 'behind': 863,\n",
              " 'gettin': 864,\n",
              " 'everybody': 865,\n",
              " 'killing': 866,\n",
              " 'app': 867,\n",
              " 'clothes': 868,\n",
              " 'lose': 869,\n",
              " 'along': 870,\n",
              " 'j': 871,\n",
              " 'waking': 872,\n",
              " 'walking': 873,\n",
              " 'relaxing': 874,\n",
              " 'minute': 875,\n",
              " 'touch': 876,\n",
              " 'hahah': 877,\n",
              " 'mail': 878,\n",
              " 'giving': 879,\n",
              " 'guitar': 880,\n",
              " 'company': 881,\n",
              " 'videos': 882,\n",
              " 'sis': 883,\n",
              " 'enjoyed': 884,\n",
              " 'film': 885,\n",
              " 'fly': 886,\n",
              " 'alot': 887,\n",
              " 'self': 888,\n",
              " 'fantastic': 889,\n",
              " 'vegas': 890,\n",
              " 'huh': 891,\n",
              " 'random': 892,\n",
              " 'indeed': 893,\n",
              " 'posted': 894,\n",
              " 'lakers': 895,\n",
              " 'passed': 896,\n",
              " 'wife': 897,\n",
              " 'single': 898,\n",
              " 'box': 899,\n",
              " 'sit': 900,\n",
              " 'hangover': 901,\n",
              " 'terrible': 902,\n",
              " 'ahead': 903,\n",
              " 'eh': 904,\n",
              " 'revision': 905,\n",
              " 'comment': 906,\n",
              " 'round': 907,\n",
              " 'web': 908,\n",
              " 'deal': 909,\n",
              " 'history': 910,\n",
              " 'light': 911,\n",
              " 'asked': 912,\n",
              " 'mins': 913,\n",
              " 'singing': 914,\n",
              " 'mommy': 915,\n",
              " 'bitch': 916,\n",
              " 'interview': 917,\n",
              " 'hun': 918,\n",
              " 'staying': 919,\n",
              " 'gosh': 920,\n",
              " 'version': 921,\n",
              " 'bummed': 922,\n",
              " 'daughter': 923,\n",
              " 'vip': 924,\n",
              " 'lately': 925,\n",
              " 'usually': 926,\n",
              " 'fml': 927,\n",
              " 'peace': 928,\n",
              " 'country': 929,\n",
              " 'ohh': 930,\n",
              " 'aint': 931,\n",
              " 'camp': 932,\n",
              " 'bar': 933,\n",
              " 'plane': 934,\n",
              " 'dark': 935,\n",
              " 'headed': 936,\n",
              " 'shoot': 937,\n",
              " 'dying': 938,\n",
              " 'changed': 939,\n",
              " 'death': 940,\n",
              " 'nights': 941,\n",
              " 'awful': 942,\n",
              " 'sing': 943,\n",
              " 'art': 944,\n",
              " 'upload': 945,\n",
              " 'dvd': 946,\n",
              " 'hold': 947,\n",
              " 'worried': 948,\n",
              " 'traffic': 949,\n",
              " 'completely': 950,\n",
              " 'currently': 951,\n",
              " 'sexy': 952,\n",
              " 'bloody': 953,\n",
              " 'fingers': 954,\n",
              " 'extra': 955,\n",
              " 'cook': 956,\n",
              " 'disappointed': 957,\n",
              " 'freaking': 958,\n",
              " 'hotel': 959,\n",
              " 'quick': 960,\n",
              " 'cheese': 961,\n",
              " 'cousin': 962,\n",
              " 'ff': 963,\n",
              " 'fat': 964,\n",
              " 'yum': 965,\n",
              " 'pc': 966,\n",
              " 'wearing': 967,\n",
              " '50': 968,\n",
              " 'pink': 969,\n",
              " 'blood': 970,\n",
              " 'serious': 971,\n",
              " 'ran': 972,\n",
              " 'watchin': 973,\n",
              " 'bb': 974,\n",
              " 'daddy': 975,\n",
              " 'coz': 976,\n",
              " 'somewhere': 977,\n",
              " 'nearly': 978,\n",
              " 'spending': 979,\n",
              " 'caught': 980,\n",
              " 'nobody': 981,\n",
              " '24': 982,\n",
              " 'ooh': 983,\n",
              " 'door': 984,\n",
              " 'nyc': 985,\n",
              " 'pissed': 986,\n",
              " 'de': 987,\n",
              " 'others': 988,\n",
              " 'nick': 989,\n",
              " 'exhausted': 990,\n",
              " 'awwww': 991,\n",
              " 'info': 992,\n",
              " 'low': 993,\n",
              " 'itunes': 994,\n",
              " 'profile': 995,\n",
              " 'dunno': 996,\n",
              " 'chillin': 997,\n",
              " 'hands': 998,\n",
              " 'maths': 999,\n",
              " 'nose': 1000,\n",
              " ...}"
            ]
          },
          "metadata": {},
          "execution_count": 19
        }
      ]
    },
    {
      "cell_type": "code",
      "source": [
        "vocab_size=len(tokenizer.word_index)+1\n",
        "vocab_size"
      ],
      "metadata": {
        "colab": {
          "base_uri": "https://localhost:8080/"
        },
        "id": "lxs6SnxVHqx6",
        "outputId": "df80b1ae-eabe-47bc-cebb-ec2a9f6a4b55"
      },
      "execution_count": null,
      "outputs": [
        {
          "output_type": "execute_result",
          "data": {
            "text/plain": [
              "290802"
            ]
          },
          "metadata": {},
          "execution_count": 20
        }
      ]
    },
    {
      "cell_type": "code",
      "source": [
        "X_train = pad_sequences(tokenizer.texts_to_sequences(train_df.text), maxlen=300)\n",
        "X_train"
      ],
      "metadata": {
        "colab": {
          "base_uri": "https://localhost:8080/"
        },
        "id": "pH0DBiuwHs_1",
        "outputId": "07b6250f-43b5-4e3b-c795-82a18f7f7d1e"
      },
      "execution_count": null,
      "outputs": [
        {
          "output_type": "execute_result",
          "data": {
            "text/plain": [
              "array([[     0,      0,      0, ...,    533,     49,     84],\n",
              "       [     0,      0,      0, ...,    619,    274,    417],\n",
              "       [     0,      0,      0, ...,      1,      4,    302],\n",
              "       ...,\n",
              "       [     0,      0,      0, ...,   6270,    197, 290801],\n",
              "       [     0,      0,      0, ...,     49,     19,    476],\n",
              "       [     0,      0,      0, ...,    324,  11089,    110]], dtype=int32)"
            ]
          },
          "metadata": {},
          "execution_count": 21
        }
      ]
    },
    {
      "cell_type": "code",
      "source": [
        "X_test = pad_sequences(tokenizer.texts_to_sequences(test_df.text), maxlen=300)\n",
        "X_test"
      ],
      "metadata": {
        "colab": {
          "base_uri": "https://localhost:8080/"
        },
        "id": "Zsb85lflH9AD",
        "outputId": "3d1e274d-0231-463a-c17c-3b68815e0550"
      },
      "execution_count": null,
      "outputs": [
        {
          "output_type": "execute_result",
          "data": {
            "text/plain": [
              "array([[   0,    0,    0, ...,   48,   14,  730],\n",
              "       [   0,    0,    0, ..., 9489,   79,   79],\n",
              "       [   0,    0,    0, ...,  310,    3,  235],\n",
              "       ...,\n",
              "       [   0,    0,    0, ...,    0,  684,  684],\n",
              "       [   0,    0,    0, ...,    1,   11,   26],\n",
              "       [   0,    0,    0, ...,   37, 1841, 2107]], dtype=int32)"
            ]
          },
          "metadata": {},
          "execution_count": 22
        }
      ]
    },
    {
      "cell_type": "code",
      "source": [
        "y_train=train_df.target\n",
        "y_train.head()"
      ],
      "metadata": {
        "colab": {
          "base_uri": "https://localhost:8080/"
        },
        "id": "FFq_XcOIIBrZ",
        "outputId": "2320a915-b230-4e5d-c2ec-a259467aabfa"
      },
      "execution_count": null,
      "outputs": [
        {
          "output_type": "execute_result",
          "data": {
            "text/plain": [
              "1559756    Positive\n",
              "51568      Negative\n",
              "569210     Negative\n",
              "71896      Negative\n",
              "405089     Negative\n",
              "Name: target, dtype: object"
            ]
          },
          "metadata": {},
          "execution_count": 23
        }
      ]
    },
    {
      "cell_type": "code",
      "source": [
        "y_test=test_df.target\n",
        "y_test.head()"
      ],
      "metadata": {
        "colab": {
          "base_uri": "https://localhost:8080/"
        },
        "id": "JIV6_EH2Ia_z",
        "outputId": "0c4a065e-c560-48cc-bc5c-8177cc8c73d8"
      },
      "execution_count": null,
      "outputs": [
        {
          "output_type": "execute_result",
          "data": {
            "text/plain": [
              "448282    Negative\n",
              "648495    Negative\n",
              "132529    Negative\n",
              "182348    Negative\n",
              "907612    Positive\n",
              "Name: target, dtype: object"
            ]
          },
          "metadata": {},
          "execution_count": 24
        }
      ]
    },
    {
      "cell_type": "code",
      "source": [
        "#Encoding the Categorical target into 0 and 1\n",
        "\n",
        "labelencoder = LabelEncoder()\n",
        "y_train = labelencoder.fit_transform(y_train)\n",
        "y_test=labelencoder.fit_transform(y_test)"
      ],
      "metadata": {
        "id": "CiZMtnCRIbnq"
      },
      "execution_count": null,
      "outputs": []
    },
    {
      "cell_type": "code",
      "source": [
        "y_train.shape"
      ],
      "metadata": {
        "colab": {
          "base_uri": "https://localhost:8080/"
        },
        "id": "GAAxYYDYIgN4",
        "outputId": "d0f46472-fa2b-4792-8cbe-7aad1de1a547"
      },
      "execution_count": null,
      "outputs": [
        {
          "output_type": "execute_result",
          "data": {
            "text/plain": [
              "(1279999,)"
            ]
          },
          "metadata": {},
          "execution_count": 26
        }
      ]
    },
    {
      "cell_type": "code",
      "source": [
        "y_test.shape"
      ],
      "metadata": {
        "colab": {
          "base_uri": "https://localhost:8080/"
        },
        "id": "UmRRAa3fJCiW",
        "outputId": "09c8dde2-20c8-4a22-9ce2-2987b1512bb5"
      },
      "execution_count": null,
      "outputs": [
        {
          "output_type": "execute_result",
          "data": {
            "text/plain": [
              "(320000,)"
            ]
          },
          "metadata": {},
          "execution_count": 27
        }
      ]
    },
    {
      "cell_type": "code",
      "source": [
        "import numpy as np\n",
        "embedding_matrix = np.zeros((vocab_size, 300))\n",
        "for word, i in tokenizer.word_index.items():\n",
        "  if word in w2v_model.wv:\n",
        "    embedding_matrix[i] = w2v_model.wv[word]\n",
        "print(embedding_matrix.shape)"
      ],
      "metadata": {
        "colab": {
          "base_uri": "https://localhost:8080/"
        },
        "id": "29YdWFiuJKtg",
        "outputId": "fe685681-f2d9-4022-8047-33e071fc35ed"
      },
      "execution_count": null,
      "outputs": [
        {
          "output_type": "stream",
          "name": "stdout",
          "text": [
            "(290802, 300)\n"
          ]
        }
      ]
    },
    {
      "cell_type": "code",
      "source": [
        "embedding_layer = Embedding(vocab_size, 300, weights=[embedding_matrix], input_length=300, trainable=False)"
      ],
      "metadata": {
        "id": "d3PDgt9BJgAW"
      },
      "execution_count": null,
      "outputs": []
    },
    {
      "cell_type": "code",
      "source": [
        "model = Sequential()\n",
        "model.add(embedding_layer)\n",
        "model.add(Dropout(0.5))\n",
        "model.add(LSTM(100, dropout=0.2, recurrent_dropout=0.2))\n",
        "model.add(Dense(1, activation='sigmoid'))\n",
        "model.summary()"
      ],
      "metadata": {
        "colab": {
          "base_uri": "https://localhost:8080/"
        },
        "id": "5SrFjz8cL5On",
        "outputId": "985a850d-b16b-4744-ea05-b63bcd01cb6c"
      },
      "execution_count": null,
      "outputs": [
        {
          "output_type": "stream",
          "name": "stdout",
          "text": [
            "WARNING:tensorflow:Layer lstm will not use cuDNN kernels since it doesn't meet the criteria. It will use a generic GPU kernel as fallback when running on GPU.\n",
            "Model: \"sequential\"\n",
            "_________________________________________________________________\n",
            " Layer (type)                Output Shape              Param #   \n",
            "=================================================================\n",
            " embedding (Embedding)       (None, 300, 300)          87240600  \n",
            "                                                                 \n",
            " dropout (Dropout)           (None, 300, 300)          0         \n",
            "                                                                 \n",
            " lstm (LSTM)                 (None, 100)               160400    \n",
            "                                                                 \n",
            " dense (Dense)               (None, 1)                 101       \n",
            "                                                                 \n",
            "=================================================================\n",
            "Total params: 87,401,101\n",
            "Trainable params: 160,501\n",
            "Non-trainable params: 87,240,600\n",
            "_________________________________________________________________\n"
          ]
        }
      ]
    },
    {
      "cell_type": "code",
      "source": [
        "model.compile(loss='binary_crossentropy',\n",
        "              optimizer=\"adam\",\n",
        "              metrics=['accuracy'])"
      ],
      "metadata": {
        "id": "b9odUSWtL_Vm"
      },
      "execution_count": null,
      "outputs": []
    },
    {
      "cell_type": "code",
      "source": [
        "model_history=model.fit(X_train, y_train,batch_size=1024,epochs=7,validation_split=0.1,verbose=1)"
      ],
      "metadata": {
        "colab": {
          "base_uri": "https://localhost:8080/"
        },
        "id": "bOXr7fj0eItO",
        "outputId": "2985c51f-931c-43a7-e055-b0d7412a67e6"
      },
      "execution_count": null,
      "outputs": [
        {
          "output_type": "stream",
          "name": "stdout",
          "text": [
            "Epoch 1/7\n",
            "1125/1125 [==============================] - 1096s 970ms/step - loss: 0.4956 - accuracy: 0.7568 - val_loss: 0.4576 - val_accuracy: 0.7849\n",
            "Epoch 2/7\n",
            "1125/1125 [==============================] - 1082s 961ms/step - loss: 0.4689 - accuracy: 0.7745 - val_loss: 0.4465 - val_accuracy: 0.7892\n",
            "Epoch 3/7\n",
            "1125/1125 [==============================] - 1079s 959ms/step - loss: 0.4612 - accuracy: 0.7790 - val_loss: 0.4446 - val_accuracy: 0.7923\n",
            "Epoch 4/7\n",
            "1125/1125 [==============================] - 1081s 961ms/step - loss: 0.4579 - accuracy: 0.7813 - val_loss: 0.4407 - val_accuracy: 0.7939\n",
            "Epoch 5/7\n",
            "1125/1125 [==============================] - 1080s 960ms/step - loss: 0.4548 - accuracy: 0.7827 - val_loss: 0.4399 - val_accuracy: 0.7949\n",
            "Epoch 6/7\n",
            "1125/1125 [==============================] - 1079s 959ms/step - loss: 0.4534 - accuracy: 0.7838 - val_loss: 0.4383 - val_accuracy: 0.7947\n",
            "Epoch 7/7\n",
            "1125/1125 [==============================] - 1088s 967ms/step - loss: 0.4519 - accuracy: 0.7848 - val_loss: 0.4348 - val_accuracy: 0.7962\n"
          ]
        }
      ]
    },
    {
      "cell_type": "code",
      "source": [
        "acc = model_history.history['accuracy']\n",
        "val_acc = model_history.history['val_accuracy']\n",
        "loss = model_history.history['loss']\n",
        "val_loss = model_history.history['val_loss']\n",
        "epochs=range(len(acc))"
      ],
      "metadata": {
        "id": "UXcFmK6teLZ6"
      },
      "execution_count": null,
      "outputs": []
    },
    {
      "cell_type": "code",
      "source": [
        "import matplotlib.pyplot as plt\n",
        "plt.plot(epochs,acc,label='Trainin_acc',color='blue')\n",
        "plt.plot(epochs,val_acc,label='Validation_acc',color='red')\n",
        "plt.legend()\n",
        "plt.title(\"Training and Validation Accuracy\")"
      ],
      "metadata": {
        "id": "kTK06OqYeMGH",
        "colab": {
          "base_uri": "https://localhost:8080/",
          "height": 298
        },
        "outputId": "e1ad4058-af70-44c4-cea3-9a60cda9ce0f"
      },
      "execution_count": null,
      "outputs": [
        {
          "output_type": "execute_result",
          "data": {
            "text/plain": [
              "Text(0.5, 1.0, 'Training and Validation Accuracy')"
            ]
          },
          "metadata": {},
          "execution_count": 34
        },
        {
          "output_type": "display_data",
          "data": {
            "text/plain": [
              "<Figure size 432x288 with 1 Axes>"
            ],
            "image/png": "[encoded data removed]"
          },
          "metadata": {
            "needs_background": "light"
          }
        }
      ]
    },
    {
      "cell_type": "code",
      "source": [
        "plt.plot(epochs,loss,label='Training_loss',color='blue')\n",
        "plt.plot(epochs,val_loss,label='Validation_loss',color='red')\n",
        "plt.legend()\n",
        "plt.title(\"Training and Validation loss\")"
      ],
      "metadata": {
        "id": "NDHI-lt-eP2L",
        "colab": {
          "base_uri": "https://localhost:8080/",
          "height": 298
        },
        "outputId": "25752e85-1df8-440e-b3cf-d05dd1ae1445"
      },
      "execution_count": null,
      "outputs": [
        {
          "output_type": "execute_result",
          "data": {
            "text/plain": [
              "Text(0.5, 1.0, 'Training and Validation loss')"
            ]
          },
          "metadata": {},
          "execution_count": 35
        },
        {
          "output_type": "display_data",
          "data": {
            "text/plain": [
              "<Figure size 432x288 with 1 Axes>"
            ],
            "image/png": "[encoded data removed]"
          },
          "metadata": {
            "needs_background": "light"
          }
        }
      ]
    },
    {
      "cell_type": "code",
      "source": [
        "def preprocess(text):\n",
        "    review=re.sub('@\\S+|https?:\\S+|http?:\\S|[^A-Za-z0-9]+',' ',text)\n",
        "    review=review.lower()\n",
        "    review=review.split()\n",
        "    review=[word for word in review if not word in stop_words]\n",
        "    print(review)\n",
        "    review=pad_sequences(tokenizer.texts_to_sequences([review]), maxlen=300)\n",
        "    return review"
      ],
      "metadata": {
        "id": "CKmQwltpeSFD"
      },
      "execution_count": null,
      "outputs": []
    },
    {
      "cell_type": "code",
      "source": [
        "def prediction(review):\n",
        "    review=preprocess(review)\n",
        "    score=model.predict(review)\n",
        "    score=score[0]\n",
        "    if score<0.4:\n",
        "        print(\"Negative\")\n",
        "    elif score>0.4 and score<0.6:\n",
        "        print(\"Neutral\")\n",
        "    else:\n",
        "        print(\"Positive\")\n",
        "    print(score)"
      ],
      "metadata": {
        "id": "bn7U9-ugeUKV"
      },
      "execution_count": null,
      "outputs": []
    },
    {
      "cell_type": "code",
      "source": [
        "prediction(\"the food is not bad\")"
      ],
      "metadata": {
        "id": "oeOIop8beXFR",
        "colab": {
          "base_uri": "https://localhost:8080/"
        },
        "outputId": "42e4cf6f-8564-478a-9c41-da5a4d32bb1d"
      },
      "execution_count": null,
      "outputs": [
        {
          "output_type": "stream",
          "name": "stdout",
          "text": [
            "['food', 'not', 'bad']\n",
            "Neutral\n",
            "[0.5712143]\n"
          ]
        }
      ]
    },
    {
      "cell_type": "code",
      "source": [
        "prediction(\"the film was horrible\")"
      ],
      "metadata": {
        "id": "0Ze3mO9_eY9Z",
        "colab": {
          "base_uri": "https://localhost:8080/"
        },
        "outputId": "9aa4ba80-bffe-41a2-81ba-23060c4a24eb"
      },
      "execution_count": null,
      "outputs": [
        {
          "output_type": "stream",
          "name": "stdout",
          "text": [
            "['film', 'horrible']\n",
            "Negative\n",
            "[0.05541886]\n"
          ]
        }
      ]
    },
    {
      "cell_type": "code",
      "source": [
        "scores = model.predict(X_test, verbose=1, batch_size=1024)"
      ],
      "metadata": {
        "id": "lzl0PZMbeZgl",
        "colab": {
          "base_uri": "https://localhost:8080/"
        },
        "outputId": "59548615-1c6b-4cb1-ea0d-fc9b5515cfc0"
      },
      "execution_count": null,
      "outputs": [
        {
          "output_type": "stream",
          "name": "stdout",
          "text": [
            "313/313 [==============================] - 24s 76ms/step\n"
          ]
        }
      ]
    },
    {
      "cell_type": "code",
      "source": [
        "scores"
      ],
      "metadata": {
        "id": "czSCJYCmecUb",
        "colab": {
          "base_uri": "https://localhost:8080/"
        },
        "outputId": "21a829f2-143b-4ceb-ba14-824c6a3fd6dd"
      },
      "execution_count": null,
      "outputs": [
        {
          "output_type": "execute_result",
          "data": {
            "text/plain": [
              "array([[0.15089989],\n",
              "       [0.07237649],\n",
              "       [0.8130911 ],\n",
              "       ...,\n",
              "       [0.27113917],\n",
              "       [0.13775143],\n",
              "       [0.9953329 ]], dtype=float32)"
            ]
          },
          "metadata": {},
          "execution_count": 41
        }
      ]
    },
    {
      "cell_type": "code",
      "source": [
        "y_pred=np.where(scores>0.5,1,0)"
      ],
      "metadata": {
        "id": "Rp2E7OPxedCw"
      },
      "execution_count": null,
      "outputs": []
    },
    {
      "cell_type": "code",
      "source": [
        "y_pred"
      ],
      "metadata": {
        "id": "FBLDb_6aegol",
        "colab": {
          "base_uri": "https://localhost:8080/"
        },
        "outputId": "063983a2-6b3c-4c38-92fa-7d83cf4949e7"
      },
      "execution_count": null,
      "outputs": [
        {
          "output_type": "execute_result",
          "data": {
            "text/plain": [
              "array([[0],\n",
              "       [0],\n",
              "       [1],\n",
              "       ...,\n",
              "       [0],\n",
              "       [0],\n",
              "       [1]])"
            ]
          },
          "metadata": {},
          "execution_count": 43
        }
      ]
    },
    {
      "cell_type": "code",
      "source": [
        "y_test"
      ],
      "metadata": {
        "id": "DZ7-6OCleiUg",
        "colab": {
          "base_uri": "https://localhost:8080/"
        },
        "outputId": "0f5c16e8-a25e-44cd-e99f-6c9ccd98bb16"
      },
      "execution_count": null,
      "outputs": [
        {
          "output_type": "execute_result",
          "data": {
            "text/plain": [
              "array([0, 0, 0, ..., 1, 1, 1])"
            ]
          },
          "metadata": {},
          "execution_count": 44
        }
      ]
    },
    {
      "cell_type": "code",
      "source": [
        "cm=confusion_matrix(y_pred,y_test)\n",
        "print(cm)"
      ],
      "metadata": {
        "id": "SaJcrhZWeklW",
        "colab": {
          "base_uri": "https://localhost:8080/"
        },
        "outputId": "2c9dc0e3-d0a5-4d5d-d69c-f8b8e341b662"
      },
      "execution_count": null,
      "outputs": [
        {
          "output_type": "stream",
          "name": "stdout",
          "text": [
            "[[127194  32100]\n",
            " [ 32726 127980]]\n"
          ]
        }
      ]
    },
    {
      "cell_type": "code",
      "source": [
        "print(accuracy_score(y_pred,y_test))"
      ],
      "metadata": {
        "id": "t4RIF8fjenIG",
        "colab": {
          "base_uri": "https://localhost:8080/"
        },
        "outputId": "6474ad32-4b94-4a1d-873f-99f9962ce1c6"
      },
      "execution_count": null,
      "outputs": [
        {
          "output_type": "stream",
          "name": "stdout",
          "text": [
            "0.79741875\n"
          ]
        }
      ]
    },
    {
      "cell_type": "code",
      "source": [
        "print(classification_report(y_test, y_pred))"
      ],
      "metadata": {
        "id": "v7UjGjAXepCo",
        "colab": {
          "base_uri": "https://localhost:8080/"
        },
        "outputId": "3f6c08e4-2716-4b26-cecd-eb6e9ae40bfb"
      },
      "execution_count": null,
      "outputs": [
        {
          "output_type": "stream",
          "name": "stdout",
          "text": [
            "              precision    recall  f1-score   support\n",
            "\n",
            "           0       0.80      0.80      0.80    159920\n",
            "           1       0.80      0.80      0.80    160080\n",
            "\n",
            "    accuracy                           0.80    320000\n",
            "   macro avg       0.80      0.80      0.80    320000\n",
            "weighted avg       0.80      0.80      0.80    320000\n",
            "\n"
          ]
        }
      ]
    }
  ]
}